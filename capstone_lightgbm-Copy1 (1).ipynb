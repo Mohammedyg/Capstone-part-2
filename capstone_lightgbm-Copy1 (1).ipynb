{
 "cells": [
  {
   "cell_type": "code",
   "execution_count": 73,
   "id": "19435085-ea30-44f1-ab83-ee0bc592a383",
   "metadata": {},
   "outputs": [],
   "source": [
    "import numpy as np\n",
    "import pandas as pd\n",
    "import lightgbm as lgb\n",
    "from sklearn.tree import DecisionTreeClassifier\n",
    "from sklearn.metrics import classification_report\n",
    "from sklearn.metrics import f1_score\n",
    "from imblearn.over_sampling import SMOTE\n",
    "from sklearn.ensemble import RandomForestClassifier\n",
    "from sklearn.preprocessing import RobustScaler\n",
    "import torch\n",
    "import torch.nn as nn\n",
    "import torch.optim as optim\n",
    "from torch.utils.data import TensorDataset"
   ]
  },
  {
   "cell_type": "code",
   "execution_count": 2,
   "id": "374e0449-7823-4d60-b224-863b7485a705",
   "metadata": {},
   "outputs": [],
   "source": [
    "df_raw = pd.read_csv(r\"C:\\Users\\mo13\\OneDrive\\Documents\\ML course\\project\\capstone data.csv\")"
   ]
  },
  {
   "cell_type": "code",
   "execution_count": 3,
   "id": "6b6c6d4f-0422-48ea-83e3-fbae4b47f0e6",
   "metadata": {},
   "outputs": [
    {
     "data": {
      "text/html": [
       "<div>\n",
       "<style scoped>\n",
       "    .dataframe tbody tr th:only-of-type {\n",
       "        vertical-align: middle;\n",
       "    }\n",
       "\n",
       "    .dataframe tbody tr th {\n",
       "        vertical-align: top;\n",
       "    }\n",
       "\n",
       "    .dataframe thead th {\n",
       "        text-align: right;\n",
       "    }\n",
       "</style>\n",
       "<table border=\"1\" class=\"dataframe\">\n",
       "  <thead>\n",
       "    <tr style=\"text-align: right;\">\n",
       "      <th></th>\n",
       "      <th>Type</th>\n",
       "      <th>Air temperature [K]</th>\n",
       "      <th>Process temperature [K]</th>\n",
       "      <th>Rotational speed [rpm]</th>\n",
       "      <th>Torque [Nm]</th>\n",
       "      <th>Tool wear [min]</th>\n",
       "      <th>Machine failure</th>\n",
       "      <th>Unnamed: 7</th>\n",
       "      <th>Unnamed: 8</th>\n",
       "      <th>Unnamed: 9</th>\n",
       "      <th>Unnamed: 10</th>\n",
       "      <th>Unnamed: 11</th>\n",
       "      <th>Unnamed: 12</th>\n",
       "      <th>Unnamed: 13</th>\n",
       "      <th>Unnamed: 14</th>\n",
       "      <th>Unnamed: 15</th>\n",
       "    </tr>\n",
       "  </thead>\n",
       "  <tbody>\n",
       "    <tr>\n",
       "      <th>0</th>\n",
       "      <td>M</td>\n",
       "      <td>298.1</td>\n",
       "      <td>308.6</td>\n",
       "      <td>1551</td>\n",
       "      <td>42.8</td>\n",
       "      <td>0</td>\n",
       "      <td>0</td>\n",
       "      <td>NaN</td>\n",
       "      <td>NaN</td>\n",
       "      <td>NaN</td>\n",
       "      <td>NaN</td>\n",
       "      <td>NaN</td>\n",
       "      <td>NaN</td>\n",
       "      <td>NaN</td>\n",
       "      <td>NaN</td>\n",
       "      <td>NaN</td>\n",
       "    </tr>\n",
       "    <tr>\n",
       "      <th>1</th>\n",
       "      <td>L</td>\n",
       "      <td>298.2</td>\n",
       "      <td>308.7</td>\n",
       "      <td>1408</td>\n",
       "      <td>46.3</td>\n",
       "      <td>3</td>\n",
       "      <td>0</td>\n",
       "      <td>NaN</td>\n",
       "      <td>NaN</td>\n",
       "      <td>NaN</td>\n",
       "      <td>NaN</td>\n",
       "      <td>NaN</td>\n",
       "      <td>NaN</td>\n",
       "      <td>NaN</td>\n",
       "      <td>NaN</td>\n",
       "      <td>NaN</td>\n",
       "    </tr>\n",
       "    <tr>\n",
       "      <th>2</th>\n",
       "      <td>L</td>\n",
       "      <td>298.1</td>\n",
       "      <td>308.5</td>\n",
       "      <td>1498</td>\n",
       "      <td>49.4</td>\n",
       "      <td>5</td>\n",
       "      <td>0</td>\n",
       "      <td>NaN</td>\n",
       "      <td>NaN</td>\n",
       "      <td>NaN</td>\n",
       "      <td>NaN</td>\n",
       "      <td>NaN</td>\n",
       "      <td>NaN</td>\n",
       "      <td>NaN</td>\n",
       "      <td>NaN</td>\n",
       "      <td>NaN</td>\n",
       "    </tr>\n",
       "    <tr>\n",
       "      <th>3</th>\n",
       "      <td>L</td>\n",
       "      <td>298.2</td>\n",
       "      <td>308.6</td>\n",
       "      <td>1433</td>\n",
       "      <td>39.5</td>\n",
       "      <td>7</td>\n",
       "      <td>0</td>\n",
       "      <td>NaN</td>\n",
       "      <td>NaN</td>\n",
       "      <td>NaN</td>\n",
       "      <td>NaN</td>\n",
       "      <td>NaN</td>\n",
       "      <td>NaN</td>\n",
       "      <td>NaN</td>\n",
       "      <td>NaN</td>\n",
       "      <td>NaN</td>\n",
       "    </tr>\n",
       "    <tr>\n",
       "      <th>4</th>\n",
       "      <td>L</td>\n",
       "      <td>298.2</td>\n",
       "      <td>308.7</td>\n",
       "      <td>1408</td>\n",
       "      <td>40.0</td>\n",
       "      <td>9</td>\n",
       "      <td>0</td>\n",
       "      <td>NaN</td>\n",
       "      <td>NaN</td>\n",
       "      <td>NaN</td>\n",
       "      <td>NaN</td>\n",
       "      <td>NaN</td>\n",
       "      <td>NaN</td>\n",
       "      <td>NaN</td>\n",
       "      <td>NaN</td>\n",
       "      <td>NaN</td>\n",
       "    </tr>\n",
       "  </tbody>\n",
       "</table>\n",
       "</div>"
      ],
      "text/plain": [
       "  Type  Air temperature [K]  Process temperature [K]  Rotational speed [rpm]  \\\n",
       "0    M                298.1                    308.6                    1551   \n",
       "1    L                298.2                    308.7                    1408   \n",
       "2    L                298.1                    308.5                    1498   \n",
       "3    L                298.2                    308.6                    1433   \n",
       "4    L                298.2                    308.7                    1408   \n",
       "\n",
       "   Torque [Nm]  Tool wear [min]  Machine failure  Unnamed: 7  Unnamed: 8  \\\n",
       "0         42.8                0                0         NaN         NaN   \n",
       "1         46.3                3                0         NaN         NaN   \n",
       "2         49.4                5                0         NaN         NaN   \n",
       "3         39.5                7                0         NaN         NaN   \n",
       "4         40.0                9                0         NaN         NaN   \n",
       "\n",
       "   Unnamed: 9  Unnamed: 10  Unnamed: 11  Unnamed: 12  Unnamed: 13  \\\n",
       "0         NaN          NaN          NaN          NaN          NaN   \n",
       "1         NaN          NaN          NaN          NaN          NaN   \n",
       "2         NaN          NaN          NaN          NaN          NaN   \n",
       "3         NaN          NaN          NaN          NaN          NaN   \n",
       "4         NaN          NaN          NaN          NaN          NaN   \n",
       "\n",
       "   Unnamed: 14  Unnamed: 15  \n",
       "0          NaN          NaN  \n",
       "1          NaN          NaN  \n",
       "2          NaN          NaN  \n",
       "3          NaN          NaN  \n",
       "4          NaN          NaN  "
      ]
     },
     "execution_count": 3,
     "metadata": {},
     "output_type": "execute_result"
    }
   ],
   "source": [
    "df_raw.head()"
   ]
  },
  {
   "cell_type": "markdown",
   "id": "b4a2fca5-fe08-4b45-a979-26e95e3066a2",
   "metadata": {},
   "source": [
    "\n",
    "\n",
    "     "
   ]
  },
  {
   "cell_type": "markdown",
   "id": "bf90245e-92c2-4b1f-8679-1f18d40fc48f",
   "metadata": {},
   "source": [
    "Because we are using Lightgbm later, we need to replace the brackets \"[]\" in the features names with \"()\", because Lightgbm does not handle Json characters"
   ]
  },
  {
   "cell_type": "code",
   "execution_count": 4,
   "id": "c38099ae-4af8-4602-958d-429a57051854",
   "metadata": {},
   "outputs": [],
   "source": [
    "df_raw.columns = df_raw.columns.str.replace(r'\\[', '(', regex=True).str.replace(r'\\]', ')', regex=True)"
   ]
  },
  {
   "cell_type": "markdown",
   "id": "8963cc0d-69a9-4a23-84f1-e14d3a784f1a",
   "metadata": {},
   "source": [
    "We also need to replace \"L\", \"M\" and \"H\" with numbers so that we can fit the dataframe to the model. we will set the following:   \n",
    "\"L\" as 1, \"M\" as 2, \"H\" as 3"
   ]
  },
  {
   "cell_type": "code",
   "execution_count": 5,
   "id": "a1fcec90-1ef5-4a51-9452-9dabf187dd98",
   "metadata": {},
   "outputs": [
    {
     "data": {
      "text/plain": [
       "array(['M', 'L', 'H'], dtype=object)"
      ]
     },
     "execution_count": 5,
     "metadata": {},
     "output_type": "execute_result"
    }
   ],
   "source": [
    "df_raw['Type'].unique()"
   ]
  },
  {
   "cell_type": "code",
   "execution_count": 6,
   "id": "6b4c171b-b19e-4651-96de-8da1a85f7b8a",
   "metadata": {},
   "outputs": [],
   "source": [
    "df_raw['Type'] = df_raw['Type'].replace({'L':1, 'M':2, 'H':3})"
   ]
  },
  {
   "cell_type": "markdown",
   "id": "acb3900a-27ba-414f-a1e8-37f5ec16cf73",
   "metadata": {},
   "source": [
    "Now let's get our dataframe ready!"
   ]
  },
  {
   "cell_type": "code",
   "execution_count": 7,
   "id": "8392c767-a29b-4ab8-a0d3-37b5784a70e8",
   "metadata": {},
   "outputs": [],
   "source": [
    "df = df_raw.drop(['Unnamed: 7', 'Unnamed: 8', 'Unnamed: 9','Unnamed: 10','Unnamed: 11','Unnamed: 12', 'Unnamed: 13',\n",
    "                 'Unnamed: 14', 'Unnamed: 15'], axis=1)\n"
   ]
  },
  {
   "cell_type": "code",
   "execution_count": 8,
   "id": "0888d962-7005-4e2b-b04f-d1d2f141dc0a",
   "metadata": {},
   "outputs": [
    {
     "data": {
      "text/html": [
       "<div>\n",
       "<style scoped>\n",
       "    .dataframe tbody tr th:only-of-type {\n",
       "        vertical-align: middle;\n",
       "    }\n",
       "\n",
       "    .dataframe tbody tr th {\n",
       "        vertical-align: top;\n",
       "    }\n",
       "\n",
       "    .dataframe thead th {\n",
       "        text-align: right;\n",
       "    }\n",
       "</style>\n",
       "<table border=\"1\" class=\"dataframe\">\n",
       "  <thead>\n",
       "    <tr style=\"text-align: right;\">\n",
       "      <th></th>\n",
       "      <th>Type</th>\n",
       "      <th>Air temperature (K)</th>\n",
       "      <th>Process temperature (K)</th>\n",
       "      <th>Rotational speed (rpm)</th>\n",
       "      <th>Torque (Nm)</th>\n",
       "      <th>Tool wear (min)</th>\n",
       "      <th>Machine failure</th>\n",
       "    </tr>\n",
       "  </thead>\n",
       "  <tbody>\n",
       "    <tr>\n",
       "      <th>0</th>\n",
       "      <td>2</td>\n",
       "      <td>298.1</td>\n",
       "      <td>308.6</td>\n",
       "      <td>1551</td>\n",
       "      <td>42.8</td>\n",
       "      <td>0</td>\n",
       "      <td>0</td>\n",
       "    </tr>\n",
       "    <tr>\n",
       "      <th>1</th>\n",
       "      <td>1</td>\n",
       "      <td>298.2</td>\n",
       "      <td>308.7</td>\n",
       "      <td>1408</td>\n",
       "      <td>46.3</td>\n",
       "      <td>3</td>\n",
       "      <td>0</td>\n",
       "    </tr>\n",
       "    <tr>\n",
       "      <th>2</th>\n",
       "      <td>1</td>\n",
       "      <td>298.1</td>\n",
       "      <td>308.5</td>\n",
       "      <td>1498</td>\n",
       "      <td>49.4</td>\n",
       "      <td>5</td>\n",
       "      <td>0</td>\n",
       "    </tr>\n",
       "    <tr>\n",
       "      <th>3</th>\n",
       "      <td>1</td>\n",
       "      <td>298.2</td>\n",
       "      <td>308.6</td>\n",
       "      <td>1433</td>\n",
       "      <td>39.5</td>\n",
       "      <td>7</td>\n",
       "      <td>0</td>\n",
       "    </tr>\n",
       "    <tr>\n",
       "      <th>4</th>\n",
       "      <td>1</td>\n",
       "      <td>298.2</td>\n",
       "      <td>308.7</td>\n",
       "      <td>1408</td>\n",
       "      <td>40.0</td>\n",
       "      <td>9</td>\n",
       "      <td>0</td>\n",
       "    </tr>\n",
       "  </tbody>\n",
       "</table>\n",
       "</div>"
      ],
      "text/plain": [
       "   Type  Air temperature (K)  Process temperature (K)  Rotational speed (rpm)  \\\n",
       "0     2                298.1                    308.6                    1551   \n",
       "1     1                298.2                    308.7                    1408   \n",
       "2     1                298.1                    308.5                    1498   \n",
       "3     1                298.2                    308.6                    1433   \n",
       "4     1                298.2                    308.7                    1408   \n",
       "\n",
       "   Torque (Nm)  Tool wear (min)  Machine failure  \n",
       "0         42.8                0                0  \n",
       "1         46.3                3                0  \n",
       "2         49.4                5                0  \n",
       "3         39.5                7                0  \n",
       "4         40.0                9                0  "
      ]
     },
     "execution_count": 8,
     "metadata": {},
     "output_type": "execute_result"
    }
   ],
   "source": [
    "df.head()"
   ]
  },
  {
   "cell_type": "code",
   "execution_count": 9,
   "id": "775a51e2-8f0c-4d05-8b19-99c22a232519",
   "metadata": {},
   "outputs": [
    {
     "data": {
      "text/html": [
       "<div>\n",
       "<style scoped>\n",
       "    .dataframe tbody tr th:only-of-type {\n",
       "        vertical-align: middle;\n",
       "    }\n",
       "\n",
       "    .dataframe tbody tr th {\n",
       "        vertical-align: top;\n",
       "    }\n",
       "\n",
       "    .dataframe thead th {\n",
       "        text-align: right;\n",
       "    }\n",
       "</style>\n",
       "<table border=\"1\" class=\"dataframe\">\n",
       "  <thead>\n",
       "    <tr style=\"text-align: right;\">\n",
       "      <th></th>\n",
       "      <th>Type</th>\n",
       "      <th>Air temperature (K)</th>\n",
       "      <th>Process temperature (K)</th>\n",
       "      <th>Rotational speed (rpm)</th>\n",
       "      <th>Torque (Nm)</th>\n",
       "      <th>Tool wear (min)</th>\n",
       "      <th>Machine failure</th>\n",
       "    </tr>\n",
       "  </thead>\n",
       "  <tbody>\n",
       "    <tr>\n",
       "      <th>50</th>\n",
       "      <td>1</td>\n",
       "      <td>298.9</td>\n",
       "      <td>309.1</td>\n",
       "      <td>2861</td>\n",
       "      <td>4.6</td>\n",
       "      <td>143</td>\n",
       "      <td>1</td>\n",
       "    </tr>\n",
       "    <tr>\n",
       "      <th>69</th>\n",
       "      <td>1</td>\n",
       "      <td>298.9</td>\n",
       "      <td>309.0</td>\n",
       "      <td>1410</td>\n",
       "      <td>65.7</td>\n",
       "      <td>191</td>\n",
       "      <td>1</td>\n",
       "    </tr>\n",
       "    <tr>\n",
       "      <th>77</th>\n",
       "      <td>1</td>\n",
       "      <td>298.8</td>\n",
       "      <td>308.9</td>\n",
       "      <td>1455</td>\n",
       "      <td>41.3</td>\n",
       "      <td>208</td>\n",
       "      <td>1</td>\n",
       "    </tr>\n",
       "    <tr>\n",
       "      <th>160</th>\n",
       "      <td>1</td>\n",
       "      <td>298.4</td>\n",
       "      <td>308.2</td>\n",
       "      <td>1282</td>\n",
       "      <td>60.7</td>\n",
       "      <td>216</td>\n",
       "      <td>1</td>\n",
       "    </tr>\n",
       "    <tr>\n",
       "      <th>161</th>\n",
       "      <td>1</td>\n",
       "      <td>298.3</td>\n",
       "      <td>308.1</td>\n",
       "      <td>1412</td>\n",
       "      <td>52.3</td>\n",
       "      <td>218</td>\n",
       "      <td>1</td>\n",
       "    </tr>\n",
       "    <tr>\n",
       "      <th>...</th>\n",
       "      <td>...</td>\n",
       "      <td>...</td>\n",
       "      <td>...</td>\n",
       "      <td>...</td>\n",
       "      <td>...</td>\n",
       "      <td>...</td>\n",
       "      <td>...</td>\n",
       "    </tr>\n",
       "    <tr>\n",
       "      <th>9758</th>\n",
       "      <td>1</td>\n",
       "      <td>298.6</td>\n",
       "      <td>309.8</td>\n",
       "      <td>2271</td>\n",
       "      <td>16.2</td>\n",
       "      <td>218</td>\n",
       "      <td>1</td>\n",
       "    </tr>\n",
       "    <tr>\n",
       "      <th>9764</th>\n",
       "      <td>1</td>\n",
       "      <td>298.5</td>\n",
       "      <td>309.5</td>\n",
       "      <td>1294</td>\n",
       "      <td>66.7</td>\n",
       "      <td>12</td>\n",
       "      <td>1</td>\n",
       "    </tr>\n",
       "    <tr>\n",
       "      <th>9822</th>\n",
       "      <td>1</td>\n",
       "      <td>298.5</td>\n",
       "      <td>309.4</td>\n",
       "      <td>1360</td>\n",
       "      <td>60.9</td>\n",
       "      <td>187</td>\n",
       "      <td>1</td>\n",
       "    </tr>\n",
       "    <tr>\n",
       "      <th>9830</th>\n",
       "      <td>1</td>\n",
       "      <td>298.3</td>\n",
       "      <td>309.3</td>\n",
       "      <td>1337</td>\n",
       "      <td>56.1</td>\n",
       "      <td>206</td>\n",
       "      <td>1</td>\n",
       "    </tr>\n",
       "    <tr>\n",
       "      <th>9974</th>\n",
       "      <td>1</td>\n",
       "      <td>298.6</td>\n",
       "      <td>308.2</td>\n",
       "      <td>1361</td>\n",
       "      <td>68.2</td>\n",
       "      <td>172</td>\n",
       "      <td>1</td>\n",
       "    </tr>\n",
       "  </tbody>\n",
       "</table>\n",
       "<p>339 rows × 7 columns</p>\n",
       "</div>"
      ],
      "text/plain": [
       "      Type  Air temperature (K)  Process temperature (K)  \\\n",
       "50       1                298.9                    309.1   \n",
       "69       1                298.9                    309.0   \n",
       "77       1                298.8                    308.9   \n",
       "160      1                298.4                    308.2   \n",
       "161      1                298.3                    308.1   \n",
       "...    ...                  ...                      ...   \n",
       "9758     1                298.6                    309.8   \n",
       "9764     1                298.5                    309.5   \n",
       "9822     1                298.5                    309.4   \n",
       "9830     1                298.3                    309.3   \n",
       "9974     1                298.6                    308.2   \n",
       "\n",
       "      Rotational speed (rpm)  Torque (Nm)  Tool wear (min)  Machine failure  \n",
       "50                      2861          4.6              143                1  \n",
       "69                      1410         65.7              191                1  \n",
       "77                      1455         41.3              208                1  \n",
       "160                     1282         60.7              216                1  \n",
       "161                     1412         52.3              218                1  \n",
       "...                      ...          ...              ...              ...  \n",
       "9758                    2271         16.2              218                1  \n",
       "9764                    1294         66.7               12                1  \n",
       "9822                    1360         60.9              187                1  \n",
       "9830                    1337         56.1              206                1  \n",
       "9974                    1361         68.2              172                1  \n",
       "\n",
       "[339 rows x 7 columns]"
      ]
     },
     "execution_count": 9,
     "metadata": {},
     "output_type": "execute_result"
    }
   ],
   "source": [
    "df.loc[df['Machine failure'] ==1]"
   ]
  },
  {
   "cell_type": "markdown",
   "id": "de5b4c66-11e2-4719-bbe2-0efc0fe8fbdb",
   "metadata": {},
   "source": [
    "Since we have 339 \"1\"s out of 10000 samples, the data is imbalanced."
   ]
  },
  {
   "cell_type": "markdown",
   "id": "4a850f2c-a3ce-4b75-9efa-145812a58cb3",
   "metadata": {},
   "source": [
    "Now let's separate the inputs and the output"
   ]
  },
  {
   "cell_type": "code",
   "execution_count": 10,
   "id": "35800fbc-d621-435e-9edc-878350be4037",
   "metadata": {},
   "outputs": [],
   "source": [
    "x = df.iloc[:,:-1]\n",
    "y = df['Machine failure']"
   ]
  },
  {
   "cell_type": "markdown",
   "id": "69b41fda-a8ef-4199-9ff9-023ae42220e6",
   "metadata": {},
   "source": [
    "# Dividing the data into Training, Validation and Test sets"
   ]
  },
  {
   "cell_type": "markdown",
   "id": "99e447f1-c164-469c-85bf-c7cd791a6a1b",
   "metadata": {},
   "source": [
    "We'll divide the data in the following proportions:"
   ]
  },
  {
   "cell_type": "markdown",
   "id": "8514597a-ad21-438a-bf1e-61de608dc1cb",
   "metadata": {},
   "source": [
    "Training set: 60% of the data,\n",
    "Validation set: 20% of the data,\n",
    "Test set: 20% of the data"
   ]
  },
  {
   "cell_type": "code",
   "execution_count": 33,
   "id": "3619fa7c-699e-479c-9bc6-823db321f615",
   "metadata": {},
   "outputs": [],
   "source": [
    "def split(x,y):\n",
    "    trainsize = int(len(df)*0.6)\n",
    "    trainplusvalsize = int(len(df)*0.2)\n",
    "    \n",
    "    x_train=x[:trainsize]\n",
    "    x_val=x[trainsize:trainsize + trainplusvalsize]\n",
    "    x_test=x[trainsize + trainplusvalsize:]\n",
    "    \n",
    "    y_train=y[:trainsize]\n",
    "    y_val=y[trainsize:trainsize + trainplusvalsize]\n",
    "    y_test=y[trainsize + trainplusvalsize:]\n",
    "    return x_train, x_val, x_test, y_train, y_val,  y_test"
   ]
  },
  {
   "cell_type": "code",
   "execution_count": 34,
   "id": "85b1a30b-b0e7-40e5-bd3f-228500037d05",
   "metadata": {},
   "outputs": [],
   "source": [
    "x_train, x_val, x_test, y_train, y_val,  y_test = split(x,y)"
   ]
  },
  {
   "cell_type": "markdown",
   "id": "6b7d038d-d1d7-48ee-acc5-1b9e4229d9f9",
   "metadata": {},
   "source": [
    "# Model 1: using Lightgbm "
   ]
  },
  {
   "cell_type": "markdown",
   "id": "5a32f41a-ef51-41c3-ada9-743806f8d903",
   "metadata": {},
   "source": [
    "Since the data is imbalanced, we will apply Lightgbm() classifier which gives more weight to the minority class."
   ]
  },
  {
   "cell_type": "code",
   "execution_count": 12,
   "id": "5bea24d4-370e-4457-a11a-5b1319ba2a07",
   "metadata": {},
   "outputs": [
    {
     "name": "stdout",
     "output_type": "stream",
     "text": [
      "[LightGBM] [Warning] Found whitespace in feature_names, replace with underlines\n",
      "[LightGBM] [Info] Number of positive: 255, number of negative: 5745\n",
      "[LightGBM] [Info] Auto-choosing col-wise multi-threading, the overhead of testing was 0.001383 seconds.\n",
      "You can set `force_col_wise=true` to remove the overhead.\n",
      "[LightGBM] [Info] Total Bins 928\n",
      "[LightGBM] [Info] Number of data points in the train set: 6000, number of used features: 6\n",
      "[LightGBM] [Info] [binary:BoostFromScore]: pavg=0.500000 -> initscore=0.000000\n",
      "[LightGBM] [Info] Start training from score 0.000000\n"
     ]
    },
    {
     "data": {
      "text/html": [
       "<style>#sk-container-id-1 {color: black;background-color: white;}#sk-container-id-1 pre{padding: 0;}#sk-container-id-1 div.sk-toggleable {background-color: white;}#sk-container-id-1 label.sk-toggleable__label {cursor: pointer;display: block;width: 100%;margin-bottom: 0;padding: 0.3em;box-sizing: border-box;text-align: center;}#sk-container-id-1 label.sk-toggleable__label-arrow:before {content: \"▸\";float: left;margin-right: 0.25em;color: #696969;}#sk-container-id-1 label.sk-toggleable__label-arrow:hover:before {color: black;}#sk-container-id-1 div.sk-estimator:hover label.sk-toggleable__label-arrow:before {color: black;}#sk-container-id-1 div.sk-toggleable__content {max-height: 0;max-width: 0;overflow: hidden;text-align: left;background-color: #f0f8ff;}#sk-container-id-1 div.sk-toggleable__content pre {margin: 0.2em;color: black;border-radius: 0.25em;background-color: #f0f8ff;}#sk-container-id-1 input.sk-toggleable__control:checked~div.sk-toggleable__content {max-height: 200px;max-width: 100%;overflow: auto;}#sk-container-id-1 input.sk-toggleable__control:checked~label.sk-toggleable__label-arrow:before {content: \"▾\";}#sk-container-id-1 div.sk-estimator input.sk-toggleable__control:checked~label.sk-toggleable__label {background-color: #d4ebff;}#sk-container-id-1 div.sk-label input.sk-toggleable__control:checked~label.sk-toggleable__label {background-color: #d4ebff;}#sk-container-id-1 input.sk-hidden--visually {border: 0;clip: rect(1px 1px 1px 1px);clip: rect(1px, 1px, 1px, 1px);height: 1px;margin: -1px;overflow: hidden;padding: 0;position: absolute;width: 1px;}#sk-container-id-1 div.sk-estimator {font-family: monospace;background-color: #f0f8ff;border: 1px dotted black;border-radius: 0.25em;box-sizing: border-box;margin-bottom: 0.5em;}#sk-container-id-1 div.sk-estimator:hover {background-color: #d4ebff;}#sk-container-id-1 div.sk-parallel-item::after {content: \"\";width: 100%;border-bottom: 1px solid gray;flex-grow: 1;}#sk-container-id-1 div.sk-label:hover label.sk-toggleable__label {background-color: #d4ebff;}#sk-container-id-1 div.sk-serial::before {content: \"\";position: absolute;border-left: 1px solid gray;box-sizing: border-box;top: 0;bottom: 0;left: 50%;z-index: 0;}#sk-container-id-1 div.sk-serial {display: flex;flex-direction: column;align-items: center;background-color: white;padding-right: 0.2em;padding-left: 0.2em;position: relative;}#sk-container-id-1 div.sk-item {position: relative;z-index: 1;}#sk-container-id-1 div.sk-parallel {display: flex;align-items: stretch;justify-content: center;background-color: white;position: relative;}#sk-container-id-1 div.sk-item::before, #sk-container-id-1 div.sk-parallel-item::before {content: \"\";position: absolute;border-left: 1px solid gray;box-sizing: border-box;top: 0;bottom: 0;left: 50%;z-index: -1;}#sk-container-id-1 div.sk-parallel-item {display: flex;flex-direction: column;z-index: 1;position: relative;background-color: white;}#sk-container-id-1 div.sk-parallel-item:first-child::after {align-self: flex-end;width: 50%;}#sk-container-id-1 div.sk-parallel-item:last-child::after {align-self: flex-start;width: 50%;}#sk-container-id-1 div.sk-parallel-item:only-child::after {width: 0;}#sk-container-id-1 div.sk-dashed-wrapped {border: 1px dashed gray;margin: 0 0.4em 0.5em 0.4em;box-sizing: border-box;padding-bottom: 0.4em;background-color: white;}#sk-container-id-1 div.sk-label label {font-family: monospace;font-weight: bold;display: inline-block;line-height: 1.2em;}#sk-container-id-1 div.sk-label-container {text-align: center;}#sk-container-id-1 div.sk-container {/* jupyter's `normalize.less` sets `[hidden] { display: none; }` but bootstrap.min.css set `[hidden] { display: none !important; }` so we also need the `!important` here to be able to override the default hidden behavior on the sphinx rendered scikit-learn.org. See: https://github.com/scikit-learn/scikit-learn/issues/21755 */display: inline-block !important;position: relative;}#sk-container-id-1 div.sk-text-repr-fallback {display: none;}</style><div id=\"sk-container-id-1\" class=\"sk-top-container\"><div class=\"sk-text-repr-fallback\"><pre>LGBMClassifier(class_weight=&#x27;balanced&#x27;)</pre><b>In a Jupyter environment, please rerun this cell to show the HTML representation or trust the notebook. <br />On GitHub, the HTML representation is unable to render, please try loading this page with nbviewer.org.</b></div><div class=\"sk-container\" hidden><div class=\"sk-item\"><div class=\"sk-estimator sk-toggleable\"><input class=\"sk-toggleable__control sk-hidden--visually\" id=\"sk-estimator-id-1\" type=\"checkbox\" checked><label for=\"sk-estimator-id-1\" class=\"sk-toggleable__label sk-toggleable__label-arrow\">LGBMClassifier</label><div class=\"sk-toggleable__content\"><pre>LGBMClassifier(class_weight=&#x27;balanced&#x27;)</pre></div></div></div></div></div>"
      ],
      "text/plain": [
       "LGBMClassifier(class_weight='balanced')"
      ]
     },
     "execution_count": 12,
     "metadata": {},
     "output_type": "execute_result"
    }
   ],
   "source": [
    "lgb_model = lgb.LGBMClassifier(class_weight='balanced')  \n",
    "# the \"class_weight\" = 'balanced'\" is to adjust class weights meaning that: Classes with fewer samples will receive higher weights.\n",
    "# and classes with more samples will receive lower weights.\n",
    "\n",
    "lgb_model.fit(x_train, y_train)"
   ]
  },
  {
   "cell_type": "code",
   "execution_count": 13,
   "id": "cb678437-bc07-4efd-ae94-7133e59bd670",
   "metadata": {},
   "outputs": [],
   "source": [
    "pr = lgb_model.predict(x_train)"
   ]
  },
  {
   "cell_type": "markdown",
   "id": "6afe8c95-1056-4a6d-9ab1-b779dc164829",
   "metadata": {},
   "source": [
    "the function \"get_report(real, predicted)\" below calculates the precision, recall and f1-score for each class"
   ]
  },
  {
   "cell_type": "code",
   "execution_count": 14,
   "id": "a18804a3-3822-4be3-9e3c-d5f06581df6a",
   "metadata": {},
   "outputs": [],
   "source": [
    "def get_report(real, predicted):      \n",
    "    return pd.DataFrame(classification_report(real, predicted, output_dict=True)).transpose().drop(index=['macro avg', 'weighted avg'])"
   ]
  },
  {
   "cell_type": "code",
   "execution_count": 15,
   "id": "2d216793-30bd-4e70-b605-011f114dde14",
   "metadata": {},
   "outputs": [
    {
     "data": {
      "text/html": [
       "<div>\n",
       "<style scoped>\n",
       "    .dataframe tbody tr th:only-of-type {\n",
       "        vertical-align: middle;\n",
       "    }\n",
       "\n",
       "    .dataframe tbody tr th {\n",
       "        vertical-align: top;\n",
       "    }\n",
       "\n",
       "    .dataframe thead th {\n",
       "        text-align: right;\n",
       "    }\n",
       "</style>\n",
       "<table border=\"1\" class=\"dataframe\">\n",
       "  <thead>\n",
       "    <tr style=\"text-align: right;\">\n",
       "      <th></th>\n",
       "      <th>precision</th>\n",
       "      <th>recall</th>\n",
       "      <th>f1-score</th>\n",
       "      <th>support</th>\n",
       "    </tr>\n",
       "  </thead>\n",
       "  <tbody>\n",
       "    <tr>\n",
       "      <th>0</th>\n",
       "      <td>1.000000</td>\n",
       "      <td>0.999478</td>\n",
       "      <td>0.999739</td>\n",
       "      <td>5745.0000</td>\n",
       "    </tr>\n",
       "    <tr>\n",
       "      <th>1</th>\n",
       "      <td>0.988372</td>\n",
       "      <td>1.000000</td>\n",
       "      <td>0.994152</td>\n",
       "      <td>255.0000</td>\n",
       "    </tr>\n",
       "    <tr>\n",
       "      <th>accuracy</th>\n",
       "      <td>0.999500</td>\n",
       "      <td>0.999500</td>\n",
       "      <td>0.999500</td>\n",
       "      <td>0.9995</td>\n",
       "    </tr>\n",
       "  </tbody>\n",
       "</table>\n",
       "</div>"
      ],
      "text/plain": [
       "          precision    recall  f1-score    support\n",
       "0          1.000000  0.999478  0.999739  5745.0000\n",
       "1          0.988372  1.000000  0.994152   255.0000\n",
       "accuracy   0.999500  0.999500  0.999500     0.9995"
      ]
     },
     "execution_count": 15,
     "metadata": {},
     "output_type": "execute_result"
    }
   ],
   "source": [
    "get_report(y_train, pr)"
   ]
  },
  {
   "cell_type": "code",
   "execution_count": 16,
   "id": "9a74cd4c-7bab-487b-a8a6-6e686bbb9846",
   "metadata": {},
   "outputs": [
    {
     "data": {
      "text/html": [
       "<div>\n",
       "<style scoped>\n",
       "    .dataframe tbody tr th:only-of-type {\n",
       "        vertical-align: middle;\n",
       "    }\n",
       "\n",
       "    .dataframe tbody tr th {\n",
       "        vertical-align: top;\n",
       "    }\n",
       "\n",
       "    .dataframe thead th {\n",
       "        text-align: right;\n",
       "    }\n",
       "</style>\n",
       "<table border=\"1\" class=\"dataframe\">\n",
       "  <thead>\n",
       "    <tr style=\"text-align: right;\">\n",
       "      <th></th>\n",
       "      <th>precision</th>\n",
       "      <th>recall</th>\n",
       "      <th>f1-score</th>\n",
       "      <th>support</th>\n",
       "    </tr>\n",
       "  </thead>\n",
       "  <tbody>\n",
       "    <tr>\n",
       "      <th>0</th>\n",
       "      <td>0.990816</td>\n",
       "      <td>0.99335</td>\n",
       "      <td>0.992082</td>\n",
       "      <td>1955.0000</td>\n",
       "    </tr>\n",
       "    <tr>\n",
       "      <th>1</th>\n",
       "      <td>0.675000</td>\n",
       "      <td>0.60000</td>\n",
       "      <td>0.635294</td>\n",
       "      <td>45.0000</td>\n",
       "    </tr>\n",
       "    <tr>\n",
       "      <th>accuracy</th>\n",
       "      <td>0.984500</td>\n",
       "      <td>0.98450</td>\n",
       "      <td>0.984500</td>\n",
       "      <td>0.9845</td>\n",
       "    </tr>\n",
       "  </tbody>\n",
       "</table>\n",
       "</div>"
      ],
      "text/plain": [
       "          precision   recall  f1-score    support\n",
       "0          0.990816  0.99335  0.992082  1955.0000\n",
       "1          0.675000  0.60000  0.635294    45.0000\n",
       "accuracy   0.984500  0.98450  0.984500     0.9845"
      ]
     },
     "execution_count": 16,
     "metadata": {},
     "output_type": "execute_result"
    }
   ],
   "source": [
    "predicted_val = lgb_model.predict(x_val)\n",
    "get_report(y_val, predicted_val)"
   ]
  },
  {
   "cell_type": "code",
   "execution_count": 17,
   "id": "9db74b13-a692-4d19-9814-0cca9fdafb8a",
   "metadata": {},
   "outputs": [
    {
     "data": {
      "text/html": [
       "<div>\n",
       "<style scoped>\n",
       "    .dataframe tbody tr th:only-of-type {\n",
       "        vertical-align: middle;\n",
       "    }\n",
       "\n",
       "    .dataframe tbody tr th {\n",
       "        vertical-align: top;\n",
       "    }\n",
       "\n",
       "    .dataframe thead th {\n",
       "        text-align: right;\n",
       "    }\n",
       "</style>\n",
       "<table border=\"1\" class=\"dataframe\">\n",
       "  <thead>\n",
       "    <tr style=\"text-align: right;\">\n",
       "      <th></th>\n",
       "      <th>precision</th>\n",
       "      <th>recall</th>\n",
       "      <th>f1-score</th>\n",
       "      <th>support</th>\n",
       "    </tr>\n",
       "  </thead>\n",
       "  <tbody>\n",
       "    <tr>\n",
       "      <th>0</th>\n",
       "      <td>0.993881</td>\n",
       "      <td>0.993881</td>\n",
       "      <td>0.993881</td>\n",
       "      <td>1961.000</td>\n",
       "    </tr>\n",
       "    <tr>\n",
       "      <th>1</th>\n",
       "      <td>0.692308</td>\n",
       "      <td>0.692308</td>\n",
       "      <td>0.692308</td>\n",
       "      <td>39.000</td>\n",
       "    </tr>\n",
       "    <tr>\n",
       "      <th>accuracy</th>\n",
       "      <td>0.988000</td>\n",
       "      <td>0.988000</td>\n",
       "      <td>0.988000</td>\n",
       "      <td>0.988</td>\n",
       "    </tr>\n",
       "  </tbody>\n",
       "</table>\n",
       "</div>"
      ],
      "text/plain": [
       "          precision    recall  f1-score   support\n",
       "0          0.993881  0.993881  0.993881  1961.000\n",
       "1          0.692308  0.692308  0.692308    39.000\n",
       "accuracy   0.988000  0.988000  0.988000     0.988"
      ]
     },
     "execution_count": 17,
     "metadata": {},
     "output_type": "execute_result"
    }
   ],
   "source": [
    "predicted_test = lgb_model.predict(x_test)\n",
    "get_report(y_test, predicted_test)"
   ]
  },
  {
   "cell_type": "markdown",
   "id": "748311ee-def8-476f-a39d-ea127b545250",
   "metadata": {},
   "source": [
    "the model on test set shows an acceptable f1-score (even better than f1-score on validation set) for an unbalanced data like this one, which is close to 70% f1-score"
   ]
  },
  {
   "cell_type": "markdown",
   "id": "b710a2eb-9ec4-4ea2-bdfe-053a6cfb8207",
   "metadata": {},
   "source": [
    "# Model 2: Using Decision Trees Classifier"
   ]
  },
  {
   "cell_type": "markdown",
   "id": "45faac5a-4989-4409-b348-d7642f61ae0a",
   "metadata": {},
   "source": [
    "First, since we have imbalanced data, we will apply oversampling to the minority class using SMOTE()"
   ]
  },
  {
   "cell_type": "code",
   "execution_count": 23,
   "id": "2b35bf5a-d660-4677-80ff-9479f4b26384",
   "metadata": {},
   "outputs": [],
   "source": [
    "smote = SMOTE(random_state=42)\n",
    "x_resampled, y_resampled = smote.fit_resample(x_train, y_train)   \n",
    "\n",
    "# x_resampled is resampled x_train\n",
    "# y_resampled is resampled y_train"
   ]
  },
  {
   "cell_type": "markdown",
   "id": "1a614efe-0d9b-4029-9d42-9829bc4c3235",
   "metadata": {},
   "source": [
    "Now, let's build the decision trees model"
   ]
  },
  {
   "cell_type": "code",
   "execution_count": 26,
   "id": "218d9a11-32d4-4d54-87e2-d7dacf0d1d0c",
   "metadata": {},
   "outputs": [
    {
     "data": {
      "text/html": [
       "<div>\n",
       "<style scoped>\n",
       "    .dataframe tbody tr th:only-of-type {\n",
       "        vertical-align: middle;\n",
       "    }\n",
       "\n",
       "    .dataframe tbody tr th {\n",
       "        vertical-align: top;\n",
       "    }\n",
       "\n",
       "    .dataframe thead th {\n",
       "        text-align: right;\n",
       "    }\n",
       "</style>\n",
       "<table border=\"1\" class=\"dataframe\">\n",
       "  <thead>\n",
       "    <tr style=\"text-align: right;\">\n",
       "      <th></th>\n",
       "      <th>precision</th>\n",
       "      <th>recall</th>\n",
       "      <th>f1-score</th>\n",
       "      <th>support</th>\n",
       "    </tr>\n",
       "  </thead>\n",
       "  <tbody>\n",
       "    <tr>\n",
       "      <th>0</th>\n",
       "      <td>0.990850</td>\n",
       "      <td>0.941688</td>\n",
       "      <td>0.965644</td>\n",
       "      <td>1955.0000</td>\n",
       "    </tr>\n",
       "    <tr>\n",
       "      <th>1</th>\n",
       "      <td>0.197183</td>\n",
       "      <td>0.622222</td>\n",
       "      <td>0.299465</td>\n",
       "      <td>45.0000</td>\n",
       "    </tr>\n",
       "    <tr>\n",
       "      <th>accuracy</th>\n",
       "      <td>0.934500</td>\n",
       "      <td>0.934500</td>\n",
       "      <td>0.934500</td>\n",
       "      <td>0.9345</td>\n",
       "    </tr>\n",
       "  </tbody>\n",
       "</table>\n",
       "</div>"
      ],
      "text/plain": [
       "          precision    recall  f1-score    support\n",
       "0          0.990850  0.941688  0.965644  1955.0000\n",
       "1          0.197183  0.622222  0.299465    45.0000\n",
       "accuracy   0.934500  0.934500  0.934500     0.9345"
      ]
     },
     "execution_count": 26,
     "metadata": {},
     "output_type": "execute_result"
    }
   ],
   "source": [
    "dt_model = DecisionTreeClassifier()\n",
    "dt_model.fit(x_resampled, y_resampled)\n",
    "\n",
    "predicted_val_dt = dt_model.predict(x_val)    # applying the model to the validation set\n",
    "get_report(y_val, predicted_val_dt)"
   ]
  },
  {
   "cell_type": "markdown",
   "id": "a97ba8e8-3978-4cb9-b9a0-0bdc9c742095",
   "metadata": {},
   "source": [
    "the model is applied to the validation set, and based on its classification report above, the F1 score is low (with acceptable recall but very low precision)"
   ]
  },
  {
   "cell_type": "markdown",
   "id": "176659e3-b49f-446c-9128-fd099bc50253",
   "metadata": {},
   "source": [
    "# Model 3: Using Random Forest Classifier"
   ]
  },
  {
   "cell_type": "markdown",
   "id": "7f0529d8-1851-45f0-9feb-b29c4757806c",
   "metadata": {},
   "source": [
    "First, we will try to build the random forest model using the oversampled data (above)"
   ]
  },
  {
   "cell_type": "code",
   "execution_count": 28,
   "id": "e496b604-aa28-4080-96ed-8975dc889c84",
   "metadata": {},
   "outputs": [
    {
     "data": {
      "text/html": [
       "<div>\n",
       "<style scoped>\n",
       "    .dataframe tbody tr th:only-of-type {\n",
       "        vertical-align: middle;\n",
       "    }\n",
       "\n",
       "    .dataframe tbody tr th {\n",
       "        vertical-align: top;\n",
       "    }\n",
       "\n",
       "    .dataframe thead th {\n",
       "        text-align: right;\n",
       "    }\n",
       "</style>\n",
       "<table border=\"1\" class=\"dataframe\">\n",
       "  <thead>\n",
       "    <tr style=\"text-align: right;\">\n",
       "      <th></th>\n",
       "      <th>precision</th>\n",
       "      <th>recall</th>\n",
       "      <th>f1-score</th>\n",
       "      <th>support</th>\n",
       "    </tr>\n",
       "  </thead>\n",
       "  <tbody>\n",
       "    <tr>\n",
       "      <th>0</th>\n",
       "      <td>0.995722</td>\n",
       "      <td>0.952430</td>\n",
       "      <td>0.973595</td>\n",
       "      <td>1955.0000</td>\n",
       "    </tr>\n",
       "    <tr>\n",
       "      <th>1</th>\n",
       "      <td>0.284615</td>\n",
       "      <td>0.822222</td>\n",
       "      <td>0.422857</td>\n",
       "      <td>45.0000</td>\n",
       "    </tr>\n",
       "    <tr>\n",
       "      <th>accuracy</th>\n",
       "      <td>0.949500</td>\n",
       "      <td>0.949500</td>\n",
       "      <td>0.949500</td>\n",
       "      <td>0.9495</td>\n",
       "    </tr>\n",
       "  </tbody>\n",
       "</table>\n",
       "</div>"
      ],
      "text/plain": [
       "          precision    recall  f1-score    support\n",
       "0          0.995722  0.952430  0.973595  1955.0000\n",
       "1          0.284615  0.822222  0.422857    45.0000\n",
       "accuracy   0.949500  0.949500  0.949500     0.9495"
      ]
     },
     "execution_count": 28,
     "metadata": {},
     "output_type": "execute_result"
    }
   ],
   "source": [
    "rf_model = RandomForestClassifier()\n",
    "rf_model.fit(x_resampled, y_resampled)\n",
    "\n",
    "predicted_val_rf = rf_model.predict(x_val) # applying the model to the validation set\n",
    "get_report(y_val, predicted_val_rf)"
   ]
  },
  {
   "cell_type": "markdown",
   "id": "5d832dc2-81fc-4ca4-99c2-9cf6e3e75977",
   "metadata": {},
   "source": [
    "Now, let's try building the model with the original data"
   ]
  },
  {
   "cell_type": "code",
   "execution_count": 29,
   "id": "8b18dc88-c0cd-45ef-8863-ad00cec257b2",
   "metadata": {},
   "outputs": [
    {
     "data": {
      "text/html": [
       "<div>\n",
       "<style scoped>\n",
       "    .dataframe tbody tr th:only-of-type {\n",
       "        vertical-align: middle;\n",
       "    }\n",
       "\n",
       "    .dataframe tbody tr th {\n",
       "        vertical-align: top;\n",
       "    }\n",
       "\n",
       "    .dataframe thead th {\n",
       "        text-align: right;\n",
       "    }\n",
       "</style>\n",
       "<table border=\"1\" class=\"dataframe\">\n",
       "  <thead>\n",
       "    <tr style=\"text-align: right;\">\n",
       "      <th></th>\n",
       "      <th>precision</th>\n",
       "      <th>recall</th>\n",
       "      <th>f1-score</th>\n",
       "      <th>support</th>\n",
       "    </tr>\n",
       "  </thead>\n",
       "  <tbody>\n",
       "    <tr>\n",
       "      <th>0</th>\n",
       "      <td>0.985844</td>\n",
       "      <td>0.997442</td>\n",
       "      <td>0.991609</td>\n",
       "      <td>1955.0000</td>\n",
       "    </tr>\n",
       "    <tr>\n",
       "      <th>1</th>\n",
       "      <td>0.772727</td>\n",
       "      <td>0.377778</td>\n",
       "      <td>0.507463</td>\n",
       "      <td>45.0000</td>\n",
       "    </tr>\n",
       "    <tr>\n",
       "      <th>accuracy</th>\n",
       "      <td>0.983500</td>\n",
       "      <td>0.983500</td>\n",
       "      <td>0.983500</td>\n",
       "      <td>0.9835</td>\n",
       "    </tr>\n",
       "  </tbody>\n",
       "</table>\n",
       "</div>"
      ],
      "text/plain": [
       "          precision    recall  f1-score    support\n",
       "0          0.985844  0.997442  0.991609  1955.0000\n",
       "1          0.772727  0.377778  0.507463    45.0000\n",
       "accuracy   0.983500  0.983500  0.983500     0.9835"
      ]
     },
     "execution_count": 29,
     "metadata": {},
     "output_type": "execute_result"
    }
   ],
   "source": [
    "rf_model = RandomForestClassifier()\n",
    "rf_model.fit(x_train, y_train)\n",
    "predicted_val_rf = rf_model.predict(x_val) # applying the model to the validation set\n",
    "get_report(y_val, predicted_val_rf)"
   ]
  },
  {
   "cell_type": "markdown",
   "id": "0ea8fa64-99f8-44f4-96a1-d84d8c2a0ebe",
   "metadata": {},
   "source": [
    "when building the model using the oversampled data, we get a good recall for the minority class but low precision\n",
    "However, when building the model using the original data, we get a good precision but very low recall. Thus, we get a better F1 score for the model when using the original data rather than oversampled data, but still low (50.7%) "
   ]
  },
  {
   "cell_type": "markdown",
   "id": "61e4f3eb-effb-4055-9685-caa72d2ab193",
   "metadata": {},
   "source": [
    "# Model 4: Neural Networks"
   ]
  },
  {
   "cell_type": "markdown",
   "id": "2f0e07dd-90bb-4904-88cd-0c58403caa39",
   "metadata": {},
   "source": [
    "Since NN could be sensitive to imbalanced data, we will build it using the oversampled data"
   ]
  },
  {
   "cell_type": "markdown",
   "id": "8241e8f5-6dda-4426-9ec9-1d7ae586f9f3",
   "metadata": {},
   "source": [
    "Now, we will use RobustScaler() as our standerdized choice because it could be better for imbalanced data"
   ]
  },
  {
   "cell_type": "code",
   "execution_count": 94,
   "id": "01f64e4e-fb2c-4afb-85db-f74fd12132a8",
   "metadata": {},
   "outputs": [],
   "source": [
    "robust = RobustScaler()\n",
    "X_scaled = robust.fit_transform(x_resampled)"
   ]
  },
  {
   "cell_type": "code",
   "execution_count": 95,
   "id": "cc875134-95ac-4dd3-a5a0-47af4b820938",
   "metadata": {},
   "outputs": [],
   "source": [
    "xs_train, xs_val, xs_test, ys_train, ys_val, ys_test = split(X_scaled,y_resampled)   \n",
    "\n",
    "# xs_train is scaled x_resampled (which is resampled x_train) \n",
    "# xs_val is scaled x_val\n",
    "# xs_test is scaled x_test"
   ]
  },
  {
   "cell_type": "markdown",
   "id": "2d32ce64-8b1c-4694-84a0-243382ac3ae2",
   "metadata": {},
   "source": [
    "let's convert the data above to tensor"
   ]
  },
  {
   "cell_type": "code",
   "execution_count": 96,
   "id": "d29288cf-363a-42f6-b943-35a9d6269e33",
   "metadata": {},
   "outputs": [],
   "source": [
    "x_train_tensor = torch.FloatTensor(xs_train)\n",
    "y_train_tensor = torch.FloatTensor(ys_train.to_numpy()).view(-1,1)  # Reshape for binary output\n",
    "\n",
    "x_val_tensor = torch.FloatTensor(xs_val)\n",
    "y_val_tensor = torch.FloatTensor(ys_val.to_numpy()).view(-1,1)\n",
    "\n",
    "x_test_tensor = torch.FloatTensor(xs_test)\n",
    "y_test_tensor = torch.FloatTensor(ys_test.to_numpy()).view(-1,1)"
   ]
  },
  {
   "cell_type": "code",
   "execution_count": 97,
   "id": "20a9bcfd-4d07-4150-8e20-077544d97dc3",
   "metadata": {},
   "outputs": [],
   "source": [
    "numeber_of_features = x_train_tensor.shape[1]"
   ]
  },
  {
   "cell_type": "markdown",
   "id": "dadd648c-55d3-41cb-811a-bdcd27371d2e",
   "metadata": {},
   "source": [
    "Let's build the NN"
   ]
  },
  {
   "cell_type": "code",
   "execution_count": 104,
   "id": "01c802e5-d7e2-4210-b970-7530b97457d7",
   "metadata": {},
   "outputs": [],
   "source": [
    "class Net(nn.Module):\n",
    "    def __init__(self, n_classes=100):\n",
    "        super(Net, self).__init__()\n",
    "\n",
    "        self.model = nn.Sequential(\n",
    "            nn.Linear(numeber_of_features, 180),\n",
    "            nn.ReLU(),\n",
    "            nn.Linear(180, 60),\n",
    "        \n",
    "            nn.Linear(60, 1),\n",
    "            nn.Sigmoid(),\n",
    "        )\n",
    "\n",
    "\n",
    "    def forward(self, x):\n",
    "         return self.model(x)\n",
    "\n",
    "nn_model = Net()"
   ]
  },
  {
   "cell_type": "markdown",
   "id": "14aa5941-6363-4518-9b70-d353b68409db",
   "metadata": {},
   "source": [
    "The optimizer used below is BCEWithLogitsLoss() becuase it is suitable for binary outputs"
   ]
  },
  {
   "cell_type": "code",
   "execution_count": 105,
   "id": "b52feb4f-9ae9-4172-a482-59200ebc39a3",
   "metadata": {},
   "outputs": [],
   "source": [
    "criterion = nn.BCEWithLogitsLoss()\n",
    "optimizer = optim.SGD(nn_model.parameters(), lr=0.001, momentum=0.9)"
   ]
  },
  {
   "cell_type": "markdown",
   "id": "648b53a7-8aa4-493e-b533-43850cc5ce13",
   "metadata": {},
   "source": [
    "Now, we will train the NN"
   ]
  },
  {
   "cell_type": "code",
   "execution_count": 106,
   "id": "329f8496-0c42-4b22-bd92-e50378836603",
   "metadata": {},
   "outputs": [
    {
     "name": "stdout",
     "output_type": "stream",
     "text": [
      "Epoch 1/10, Loss: 0.9425\n",
      "Epoch 2/10, Loss: 0.9423\n",
      "Epoch 3/10, Loss: 0.9421\n",
      "Epoch 4/10, Loss: 0.9417\n",
      "Epoch 5/10, Loss: 0.9412\n",
      "Epoch 6/10, Loss: 0.9407\n",
      "Epoch 7/10, Loss: 0.9400\n",
      "Epoch 8/10, Loss: 0.9393\n",
      "Epoch 9/10, Loss: 0.9385\n",
      "Epoch 10/10, Loss: 0.9377\n"
     ]
    }
   ],
   "source": [
    "n_epochs = 10\n",
    "\n",
    "for epoch in range(n_epochs):\n",
    "    train_loss = 0.0\n",
    "    \n",
    "    optimizer.zero_grad()\n",
    "    output = nn_model(x_train_tensor)\n",
    "            \n",
    "    loss = criterion(output, y_train_tensor)\n",
    "    loss.backward()\n",
    "            \n",
    "    optimizer.step()\n",
    "            \n",
    "    train_loss += loss.item()*x_train_tensor.size(0)\n",
    "            \n",
    "    train_loss = train_loss/len(TensorDataset(x_train_tensor, y_train_tensor))  \n",
    "    print(f'Epoch {epoch + 1}/{n_epochs}, Loss: {train_loss:.4f}')"
   ]
  },
  {
   "cell_type": "markdown",
   "id": "21d3da5a-2a11-4c4a-b6c3-e8c5c082c76f",
   "metadata": {},
   "source": [
    "Let's apply our model to the validation set"
   ]
  },
  {
   "cell_type": "code",
   "execution_count": 107,
   "id": "4bdc1323-90ef-4976-a234-014822d42762",
   "metadata": {},
   "outputs": [
    {
     "data": {
      "text/plain": [
       "tensor([[1.],\n",
       "        [1.],\n",
       "        [1.],\n",
       "        ...,\n",
       "        [1.],\n",
       "        [0.],\n",
       "        [1.]])"
      ]
     },
     "execution_count": 107,
     "metadata": {},
     "output_type": "execute_result"
    }
   ],
   "source": [
    "nn_model.eval()  # Set the model to evaluation mode\n",
    "with torch.no_grad():\n",
    "    y_pred_prob = nn_model(x_val_tensor)\n",
    "    y_pred_nn = (y_pred_prob > 0.5).float()\n",
    "y_pred_nn"
   ]
  },
  {
   "cell_type": "code",
   "execution_count": 108,
   "id": "93b7eb4f-f4d3-43ea-a929-74b2ea6855b1",
   "metadata": {},
   "outputs": [],
   "source": [
    "y_val_numpy = y_val_tensor.numpy()  # Convert it to numpy array to get the classification report\n",
    "y_pred_numpy = y_pred_nn.numpy()    # Convert it to numpy array to get the classification report"
   ]
  },
  {
   "cell_type": "code",
   "execution_count": 109,
   "id": "3ae62f2d-3b75-425f-b9d9-a63b622a7588",
   "metadata": {},
   "outputs": [
    {
     "data": {
      "text/html": [
       "<div>\n",
       "<style scoped>\n",
       "    .dataframe tbody tr th:only-of-type {\n",
       "        vertical-align: middle;\n",
       "    }\n",
       "\n",
       "    .dataframe tbody tr th {\n",
       "        vertical-align: top;\n",
       "    }\n",
       "\n",
       "    .dataframe thead th {\n",
       "        text-align: right;\n",
       "    }\n",
       "</style>\n",
       "<table border=\"1\" class=\"dataframe\">\n",
       "  <thead>\n",
       "    <tr style=\"text-align: right;\">\n",
       "      <th></th>\n",
       "      <th>precision</th>\n",
       "      <th>recall</th>\n",
       "      <th>f1-score</th>\n",
       "      <th>support</th>\n",
       "    </tr>\n",
       "  </thead>\n",
       "  <tbody>\n",
       "    <tr>\n",
       "      <th>0.0</th>\n",
       "      <td>0.982456</td>\n",
       "      <td>0.342682</td>\n",
       "      <td>0.508129</td>\n",
       "      <td>1961.0000</td>\n",
       "    </tr>\n",
       "    <tr>\n",
       "      <th>1.0</th>\n",
       "      <td>0.020517</td>\n",
       "      <td>0.692308</td>\n",
       "      <td>0.039852</td>\n",
       "      <td>39.0000</td>\n",
       "    </tr>\n",
       "    <tr>\n",
       "      <th>accuracy</th>\n",
       "      <td>0.349500</td>\n",
       "      <td>0.349500</td>\n",
       "      <td>0.349500</td>\n",
       "      <td>0.3495</td>\n",
       "    </tr>\n",
       "  </tbody>\n",
       "</table>\n",
       "</div>"
      ],
      "text/plain": [
       "          precision    recall  f1-score    support\n",
       "0.0        0.982456  0.342682  0.508129  1961.0000\n",
       "1.0        0.020517  0.692308  0.039852    39.0000\n",
       "accuracy   0.349500  0.349500  0.349500     0.3495"
      ]
     },
     "execution_count": 109,
     "metadata": {},
     "output_type": "execute_result"
    }
   ],
   "source": [
    "get_report(y_test_numpy, y_pred_numpy)"
   ]
  },
  {
   "cell_type": "markdown",
   "id": "12913e6a-36aa-4126-a6ca-f4e002f9f3ab",
   "metadata": {},
   "source": [
    "the recall of this model is acceptable but the precision is really poor, so the F1 score is really poor for this model"
   ]
  },
  {
   "cell_type": "markdown",
   "id": "e7180ee4-e24a-486f-bd6b-7cefd752797a",
   "metadata": {},
   "source": [
    "\n",
    "\n"
   ]
  },
  {
   "cell_type": "markdown",
   "id": "4928ec67-ffb8-4e90-9d11-85f852ff4618",
   "metadata": {},
   "source": [
    "# Discussion"
   ]
  },
  {
   "cell_type": "markdown",
   "id": "c667d930-2b2c-4563-ab92-1763cdbc7732",
   "metadata": {},
   "source": [
    "we trained four models on our imbalanced data, and applied the models on the validation set. We found out that the best model in this case is Lightgbm since it gave F1 score of 63.5% compared to the other models which were poor"
   ]
  },
  {
   "cell_type": "markdown",
   "id": "2df4ef52-314f-4347-8842-1813ed9b16b3",
   "metadata": {},
   "source": [
    "We then tested the lightgbm model on the test set and we got even a better F1 score which was 69%"
   ]
  },
  {
   "cell_type": "markdown",
   "id": "2da4e1cd-47ba-4a9d-b99d-0b538ea965e8",
   "metadata": {},
   "source": [
    "Therefore, I will choose model 1 (i.e. Lightgbm model)"
   ]
  }
 ],
 "metadata": {
  "kernelspec": {
   "display_name": "Python 3 (ipykernel)",
   "language": "python",
   "name": "python3"
  },
  "language_info": {
   "codemirror_mode": {
    "name": "ipython",
    "version": 3
   },
   "file_extension": ".py",
   "mimetype": "text/x-python",
   "name": "python",
   "nbconvert_exporter": "python",
   "pygments_lexer": "ipython3",
   "version": "3.11.7"
  }
 },
 "nbformat": 4,
 "nbformat_minor": 5
}
